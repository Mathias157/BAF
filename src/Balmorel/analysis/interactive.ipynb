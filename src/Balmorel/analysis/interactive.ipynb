{
 "cells": [
  {
   "cell_type": "code",
   "execution_count": null,
   "metadata": {},
   "outputs": [],
   "source": [
    "from pybalmorel import Balmorel\n",
    "from pybalmorel.utils import symbol_to_df\n",
    "import matplotlib.pyplot as plt\n",
    "\n",
    "# Collect results\n",
    "m = Balmorel('../')\n",
    "m.collect_results()"
   ]
  },
  {
   "cell_type": "code",
   "execution_count": null,
   "metadata": {},
   "outputs": [],
   "source": [
    "# Interactive Bar Chart Plotting\n",
    "m.results.interactive_bar_chart()"
   ]
  },
  {
   "cell_type": "code",
   "execution_count": null,
   "metadata": {},
   "outputs": [],
   "source": [
    "import matplotlib.pyplot as plt\n",
    "\n",
    "aggregation = ['\"true\" model', '70 clusters', '50 clusters', '30 clusters', '10 clusters']\n",
    "CPU_time = [91 + 33/60, 13, 5 + 55/60, 1 + 24/60, 40/60]\n",
    "\n",
    "fig, ax = plt.subplots(figsize=(5, 3))\n",
    "ax.bar(aggregation, CPU_time, color=[0.8, .2, .2])\n",
    "ax.set_ylabel('CPU Time [h]')\n",
    "labels = ax.get_xticklabels()\n",
    "ax.set_xticklabels(labels, rotation=90)\n",
    "fig.savefig('cpu_time.png', transparent=True, bbox_inches='tight')"
   ]
  },
  {
   "cell_type": "markdown",
   "metadata": {},
   "source": [
    "# Investigate Overlap Effect"
   ]
  },
  {
   "cell_type": "code",
   "execution_count": null,
   "metadata": {},
   "outputs": [],
   "source": [
    "# Load Results at High and Low Resolution\n",
    "dfh = symbol_to_df(m.results.db['N70'], 'PRO_YCRAGFST')\n",
    "dfm = symbol_to_df(m.results.db['N10'], 'PRO_YCRAGFST')\n",
    "dfl = symbol_to_df(m.results.db['N2'], 'PRO_YCRAGFST')\n",
    "# dfh_curt = symbol_to_df(m.results.db['N70'], 'CURT_YCRAFST')\n",
    "# dfm_curt = symbol_to_df(m.results.db['N10'], 'CURT_YCRAFST')\n",
    "# dfl_curt = symbol_to_df(m.results.db['N2'], 'CURT_YCRAFST')\n",
    "dfh_el = symbol_to_df(m.results.db['N70'], 'EL_DEMAND_YCRST')\n",
    "dfm_el = symbol_to_df(m.results.db['N10'], 'EL_DEMAND_YCRST')\n",
    "dfl_el = symbol_to_df(m.results.db['N2'], 'EL_DEMAND_YCRST')\n",
    "dfh_cap = symbol_to_df(m.results.db['N70'], 'G_CAP_YCRAF')\n",
    "dfm_cap = symbol_to_df(m.results.db['N10'], 'G_CAP_YCRAF')\n",
    "dfl_cap = symbol_to_df(m.results.db['N2'], 'G_CAP_YCRAF')"
   ]
  },
  {
   "cell_type": "code",
   "execution_count": null,
   "metadata": {},
   "outputs": [],
   "source": [
    "# Load inputs\n",
    "# scenarios = ['N70', 'N50', 'N30', 'N10', 'N2']\n",
    "scenarios = ['N70', 'N50']\n",
    "for SC in scenarios:\n",
    "    if SC not in m.input_data:\n",
    "        m.load_incfiles(SC)\n",
    "\n",
    "fig, axes = plt.subplots(nrows=len(scenarios), figsize=(15, 15))\n",
    "fig.subplots_adjust(hspace=0.5)\n",
    "n = 0\n",
    "for SC in scenarios:\n",
    "    # Get potential\n",
    "    df_pot = symbol_to_df(m.input_data[SC], 'SUBTECHGROUPKPOT').query('TECH_GROUP == \"WINDTURBINE_OFFSHORE\" or TECH_GROUP == \"WINDTURBINE_ONSHORE\"').pivot_table(columns='CCCRRRAAA', values='Value', aggfunc='sum')    \n",
    "    # print('Total potential: %0.2f'%df_pot.sum().sum())\n",
    "    # Get profile\n",
    "    df_pro = symbol_to_df(m.input_data[SC], 'WND_VAR_T').pivot_table(index=['SSS', 'TTT'], columns='AAA', values='Value')\n",
    "    df_pro_normed = df_pro / df_pro.max() # Normalise\n",
    "    \n",
    "    # Calculate potential production\n",
    "    prod_pot = df_pro_normed.mul(df_pot.sum())\n",
    "    \n",
    "    # Figure out when production is above X % of peak\n",
    "    fraction_of_peak = 0.5\n",
    "    idx = prod_pot >= prod_pot.max() * fraction_of_peak\n",
    "    print('\\nFor scenario %s..'%SC)\n",
    "    # print('Peak production: ', prod_pot[idx][prod_pot.columns[0]].dropna())\n",
    "    # print('Simultaneous peak production at %0.0f pct: %d h'%(fraction_of_peak*100, len(prod_pot[idx].dropna())))\n",
    "    # print('Total overlaps at  %0.0f pct: %0.0f hours/region'%(fraction_of_peak*100, prod_pot[idx].count(axis=1).sum()/len(prod_pot.columns)))\n",
    "    # print('Total non-overlaps at %0.0f pct: %0.0f hours'%(fraction_of_peak*100, len(prod_pot.index)*len(prod_pot.columns) - prod_pot[idx].count(axis=1).sum()))\n",
    "    # print('Total non-overlaps at %0.0f pct: %0.0f hours/region'%(fraction_of_peak*100, len(prod_pot.index) - prod_pot[idx].count(axis=1).sum()/len(prod_pot.columns)))\n",
    "    print('Total non-overlapping production at %0.0f pct: %0.0f TWh'%(fraction_of_peak*100, prod_pot[idx].sum().sum()/1e6))\n",
    "    print('Total non-overlapping production at %0.0f pct: %0.0f TWh/region'%(fraction_of_peak*100, prod_pot[idx].sum().sum()/len(prod_pot.columns)/1e6))\n",
    "    # print('Total non-overlapping production at %0.0f pct: %0.0f hours/region'%(fraction_of_peak*100, prod_pot[idx].isna().sum().sum()/len(prod_pot.columns)))\n",
    "    # print('Sum of peak production: ', prod_pot.max().sum(), '\\n')\n",
    "    # print(df_pot.sum())\n",
    "    \n",
    "    # The average of maximum production through all geographies, at any point in time\n",
    "    # (i.e.: What is the maximum possible production of wind that can be transmitted to the rest of the country on average, in any point in time?)\n",
    "    print('Average yearly power %0.2f MW'%prod_pot.sum(axis=1).mean())\n",
    "    print('Deviation in yearly power %0.2f MW'%prod_pot.sum(axis=1).std())\n",
    "\n",
    "    prod_pot.plot.area(ax=axes[n], legend=False)\n",
    "    axes[n].set_ylim([0, 100000])\n",
    "    axes[n].set_xlim([0, 8736])\n",
    "    axes[n].set_title(SC)\n",
    "    n += 1\n",
    "    \n",
    "    \n",
    "    # Calculate curtailment\n",
    "    \n",
    "    ## Production\n",
    "    pro_actual = symbol_to_df(m.results.db[SC], 'PRO_YCRAGFST').pivot_table(index=['Season', 'Time'], columns='Area', values='Value')\n",
    "    pot_actual = symbol_to_df(m.results.db[SC], 'G_CAP_YCRAF').pivot_table(index=['Technology'], columns='Area', values='Value').loc[['WIND-ON', 'WIND-OFF']]\n",
    "    # df_pro_normed * G_CAP - PRO_YCRAGFST\n",
    "    print(pot_actual)\n",
    "    print(df_pro_normed)"
   ]
  },
  {
   "cell_type": "code",
   "execution_count": null,
   "metadata": {},
   "outputs": [],
   "source": [
    "fig, axes = plt.subplots(nrows=3, figsize=(10, 7))\n",
    "n = 0\n",
    "# ylims = [0, 50e3]\n",
    "xlims = [0, 1092]\n",
    "for res in ['h', 'm', 'l']:\n",
    "    df = locals()['df%s'%res].query('Fuel == \"WIND\"').pivot_table(index=['Season', 'Time'], values='Value', columns='Region', aggfunc='sum') \n",
    "    # curt = locals()['df%s_curt'%res].query('Fuel == \"WIND\"').pivot_table(index=['Season', 'Time'], values='Value', columns='Region', aggfunc='sum') \n",
    "    el = locals()['df%s_el'%res].query('Category == \"EXOGENOUS\"').pivot_table(index=['Season', 'Time'], values='Value', aggfunc='sum') \n",
    "    cap = locals()['df%s_cap'%res].query('Fuel == \"WIND\"').pivot_table(columns='Region', values='Value', aggfunc='sum') \n",
    "    \n",
    "    # print(df / cap.sum())\n",
    "    df.plot.area(stacked=True, ax=axes[n], legend=False)\n",
    "    el.plot(ax=axes[n], color='k', linewidth=1)\n",
    "    \n",
    "    print('Residual load for %s resolution'%res)\n",
    "    print((df.sum(axis=1)-el.Value).sum())\n",
    "    # print(el)\n",
    "    \n",
    "    # axes[n].set_ylim(ylims)\n",
    "    axes[n].set_xlim(xlims)\n",
    "    \n",
    "    n += 1"
   ]
  },
  {
   "cell_type": "markdown",
   "metadata": {},
   "source": [
    "# Other Transport\n",
    "\n",
    "## Biomass"
   ]
  },
  {
   "cell_type": "code",
   "execution_count": null,
   "metadata": {},
   "outputs": [],
   "source": [
    "from pybalmorel.utils import symbol_to_df\n",
    "import gams\n",
    "import os\n",
    "import numpy as np \n",
    "\n",
    "SC = 'N2'\n",
    "ws = gams.GamsWorkspace(system_directory='/appl/gams/47.6.0')\n",
    "db = ws.add_database_from_gdx(os.path.abspath('../%s/model/all_endofmodel.gdx'%SC))\n",
    "\n",
    "df = symbol_to_df(db, 'VFUELTRANSPORT')\n",
    "df\n"
   ]
  },
  {
   "cell_type": "markdown",
   "metadata": {},
   "source": [
    "# Capacities on Map"
   ]
  },
  {
   "cell_type": "code",
   "execution_count": null,
   "metadata": {},
   "outputs": [],
   "source": [
    "import geopandas as gpd\n",
    "\n",
    "scenarios = ['N2', 'N10', 'N30', 'N50', 'N70', 'base']\n",
    "\n",
    "df = m.results.get_result('G_CAP_YCRAF')\n",
    "for SC in scenarios:\n",
    "    fig, ax = plt.subplots()\n",
    "    if SC != 'base':\n",
    "        gf = gpd.read_file('geofiles/DE-DH-WNDFLH-SOLEFLH_%dcluster_geofile.gpkg'%(int(SC.lstrip('N'))))\n",
    "    else:\n",
    "        gf = gpd.read_file('geofiles/municipalities.gpkg')[['Name', 'geometry']]\n",
    "        gf.columns = ['cluster_name', 'geometry']\n",
    "    temp = df.query('Scenario == @SC and Technology == \"WIND-OFF\"')[['Region', 'Value']].pivot_table(index='Region', values='Value', aggfunc='sum').reset_index()\n",
    "    temp.columns = ['cluster_name', 'Value']\n",
    "    gf.merge(temp, on='cluster_name').plot(ax=ax, column='Value', legend=True)\n",
    "    print(gf.merge(temp, on='cluster_name'))\n",
    "    ax.set_title(SC)"
   ]
  },
  {
   "cell_type": "code",
   "execution_count": null,
   "metadata": {},
   "outputs": [],
   "source": [
    "from pybalmorel import Balmorel\n",
    "\n",
    "m.results.plot_profile('Electricity', 2050, 'europe')"
   ]
  }
 ],
 "metadata": {
  "kernelspec": {
   "display_name": "default",
   "language": "python",
   "name": "python3"
  },
  "language_info": {
   "codemirror_mode": {
    "name": "ipython",
    "version": 3
   },
   "file_extension": ".py",
   "mimetype": "text/x-python",
   "name": "python",
   "nbconvert_exporter": "python",
   "pygments_lexer": "ipython3",
   "version": "3.12.9"
  }
 },
 "nbformat": 4,
 "nbformat_minor": 2
}
